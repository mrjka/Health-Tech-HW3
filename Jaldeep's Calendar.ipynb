{
 "cells": [
  {
   "cell_type": "code",
   "execution_count": 6,
   "metadata": {
    "collapsed": false
   },
   "outputs": [
    {
     "name": "stderr",
     "output_type": "stream",
     "text": [
      "//anaconda/lib/python2.7/site-packages/matplotlib/font_manager.py:273: UserWarning: Matplotlib is building the font cache using fc-list. This may take a moment.\n",
      "  warnings.warn('Matplotlib is building the font cache using fc-list. This may take a moment.')\n"
     ]
    }
   ],
   "source": [
    "%matplotlib inline  \n",
    "import matplotlib.pyplot as plt\n",
    "import pandas as pd\n",
    "import numpy as np\n",
    "from datetime import datetime, date, time\n",
    "import re"
   ]
  },
  {
   "cell_type": "code",
   "execution_count": 7,
   "metadata": {
    "collapsed": false,
    "scrolled": true
   },
   "outputs": [],
   "source": [
    "start_date = []\n",
    "end_date = []\n",
    "with open('personal.txt', 'r') as personal:\n",
    "    for line in personal:\n",
    "        if \"Start:\" in line:\n",
    "            start_date.append(line.split(\": \")[1].strip())\n",
    "        if \"End:\" in line:\n",
    "            end_date.append(line.split(\": \")[1].strip())\n",
    "with open('cornell.txt', 'r') as personal:\n",
    "    for line in personal:\n",
    "        if \"Start:\" in line:\n",
    "            start_date.append(line.split(\": \")[1].strip())\n",
    "        if \"End:\" in line:\n",
    "            end_date.append(line.split(\": \")[1].strip())"
   ]
  },
  {
   "cell_type": "code",
   "execution_count": 8,
   "metadata": {
    "collapsed": false
   },
   "outputs": [],
   "source": [
    "startDate = []\n",
    "endDate = []\n",
    "for i in range(len(start_date)):\n",
    "    hasTime = start_date[i].split(\" \")\n",
    "    if(len(hasTime) == 2):\n",
    "        #startDate.append(hasTime[0] + \" \" + hasTime[1].replace(\"-05:00\", \"\"))\n",
    "        startDate.append(start_date[i].split(\"+\")[0])\n",
    "        #temp = hasTime[0] + \" \" + hasTime[1].split(\"-\")[0]\n",
    "        endDate.append(end_date[i].split(\"+\")[0])"
   ]
  },
  {
   "cell_type": "code",
   "execution_count": 9,
   "metadata": {
    "collapsed": false
   },
   "outputs": [
    {
     "name": "stdout",
     "output_type": "stream",
     "text": [
      "45\n",
      "45\n"
     ]
    }
   ],
   "source": [
    "startDate.sort()\n",
    "endDate.sort()\n",
    "print(len(startDate))\n",
    "print(len(endDate))"
   ]
  },
  {
   "cell_type": "code",
   "execution_count": 10,
   "metadata": {
    "collapsed": false
   },
   "outputs": [],
   "source": [
    "#print start_date\n",
    "start_DateTime = []\n",
    "end_DateTime = []\n",
    "unique_Start = []\n",
    "for i in range(len(startDate)):\n",
    "    temp = startDate[i].split()\n",
    "    startDate[i] = temp[0] + \" \" + temp[1].replace(\"-05:00\", \"\")\n",
    "    if temp[0] not in unique_Start:\n",
    "        unique_Start.append(temp[0])\n",
    "    temp = endDate[i].split()\n",
    "    endDate[i] = temp[0] + \" \" + temp[1].replace(\"-05:00\", \"\")\n",
    "    start_DateTime.append(datetime.strptime(startDate[i],\"%Y-%m-%d %H:%M:%S\"))\n",
    "    end_DateTime.append(datetime.strptime(endDate[i],\"%Y-%m-%d %H:%M:%S\"))"
   ]
  },
  {
   "cell_type": "code",
   "execution_count": 11,
   "metadata": {
    "collapsed": false
   },
   "outputs": [
    {
     "data": {
      "text/plain": [
       "28"
      ]
     },
     "execution_count": 11,
     "metadata": {},
     "output_type": "execute_result"
    }
   ],
   "source": [
    "len(unique_Start)"
   ]
  },
  {
   "cell_type": "code",
   "execution_count": 12,
   "metadata": {
    "collapsed": false
   },
   "outputs": [],
   "source": [
    "daily_count = []\n",
    "dif_min = 0\n",
    "str_unique_date = []\n",
    "for i in unique_Start:\n",
    "    dif_min = 0\n",
    "    j = 0\n",
    "    while (j < len(startDate)):\n",
    "        temp = startDate[j].split()\n",
    "        if temp[0] == i:\n",
    "            dif_min += (end_DateTime[j] - start_DateTime[j]).total_seconds() / 60\n",
    "        j+=1\n",
    "    if(dif_min < 1440):\n",
    "        daily_count.append(dif_min)\n",
    "        str_unique_date.append(str(i))"
   ]
  },
  {
   "cell_type": "code",
   "execution_count": 13,
   "metadata": {
    "collapsed": false
   },
   "outputs": [
    {
     "name": "stdout",
     "output_type": "stream",
     "text": [
      "Daily Activity from Calendar Data\n",
      "    Date        Minutes\n",
      "  2017-02-26    60.0\n",
      "  2017-02-27    150.0\n",
      "  2017-02-28    390.0\n",
      "  2017-03-01    315.0\n",
      "  2017-03-02    135.0\n",
      "  2017-03-03    135.0\n",
      "  2017-03-06    60.0\n",
      "  2017-03-07    150.0\n",
      "  2017-03-08    195.0\n",
      "  2017-03-09    195.0\n",
      "  2017-03-10    60.0\n",
      "  2017-03-13    120.0\n",
      "  2017-03-15    315.0\n",
      "  2017-03-16    75.0\n",
      "  2017-03-17    90.0\n",
      "  2017-03-21    135.0\n",
      "  2017-03-22    195.0\n",
      "  2017-03-23    195.0\n",
      "  2017-03-24    60.0\n",
      "  2017-03-25    60.0\n",
      "  2017-03-29    195.0\n",
      "  2017-04-12    60.0\n",
      "  2017-04-20    195.0\n",
      "  2017-05-10    60.0\n",
      "  2017-06-15    845.0\n",
      "  2017-07-13    544.0\n"
     ]
    }
   ],
   "source": [
    "print(\"Daily Activity from Calendar Data\")\n",
    "print(\"    Date        Minutes\")\n",
    "for i in range(len(str_unique_date)):\n",
    "    print(\"  {}    {}\".format(str_unique_date[i], daily_count[i]))"
   ]
  },
  {
   "cell_type": "code",
   "execution_count": 14,
   "metadata": {
    "collapsed": false
   },
   "outputs": [
    {
     "data": {
      "image/png": "[encoded data removed]",
      "text/plain": [
       "<matplotlib.figure.Figure at 0x10954f910>"
      ]
     },
     "metadata": {},
     "output_type": "display_data"
    }
   ],
   "source": [
    "# the histogram of the data \n",
    "y_pos = np.arange(len(daily_count))\n",
    "fig = plt.figure(figsize=(10,5))\n",
    "plt.bar(y_pos, daily_count, align='center', alpha=0.5, width=0.8)\n",
    "plt.xticks(y_pos, y_pos)\n",
    "plt.title('Daily Activity from Calendar')\n",
    "plt.ylabel('Minutes')\n",
    "plt.xlabel('Day')\n",
    "plt.show()"
   ]
  },
  {
   "cell_type": "code",
   "execution_count": 15,
   "metadata": {
    "collapsed": false
   },
   "outputs": [
    {
     "name": "stdout",
     "output_type": "stream",
     "text": [
      "Daily Activity from Calendar Data\n",
      "    Date        Minutes\n",
      "  2017-02-26    60.0\n",
      "  2017-02-27    150.0\n",
      "  2017-02-28    390.0\n",
      "  2017-03-01    315.0\n",
      "  2017-03-02    135.0\n",
      "  2017-03-03    135.0\n",
      "  2017-03-06    60.0\n",
      "  2017-03-07    150.0\n",
      "  2017-03-08    195.0\n",
      "  2017-03-09    195.0\n",
      "  2017-03-10    60.0\n",
      "  2017-03-13    120.0\n",
      "  2017-03-15    315.0\n",
      "  2017-03-16    75.0\n",
      "  2017-03-17    90.0\n",
      "  2017-03-21    135.0\n",
      "  2017-03-22    195.0\n",
      "  2017-03-23    195.0\n",
      "  2017-03-24    60.0\n",
      "  2017-03-25    60.0\n",
      "  2017-03-29    195.0\n",
      "  2017-04-12    60.0\n",
      "  2017-04-20    195.0\n",
      "  2017-05-10    60.0\n",
      "  2017-06-15    845.0\n",
      "  2017-07-13    544.0\n"
     ]
    }
   ],
   "source": [
    "print(\"Daily Activity from Calendar Data\")\n",
    "print(\"    Date        Minutes\")\n",
    "for i in range(len(str_unique_date)):\n",
    "    print(\"  {}    {}\".format(str_unique_date[i], daily_count[i]))"
   ]
  },
  {
   "cell_type": "code",
   "execution_count": 16,
   "metadata": {
    "collapsed": false
   },
   "outputs": [],
   "source": [
    "dict_calendar = {}\n",
    "for i in range(len(str_unique_date)):\n",
    "    dict_calendar[str_unique_date[i]] = daily_count[i]\n"
   ]
  },
  {
   "cell_type": "code",
   "execution_count": 17,
   "metadata": {
    "collapsed": false
   },
   "outputs": [
    {
     "data": {
      "text/plain": [
       "{'2017-02-26': 60.0,\n",
       " '2017-02-27': 150.0,\n",
       " '2017-02-28': 390.0,\n",
       " '2017-03-01': 315.0,\n",
       " '2017-03-02': 135.0,\n",
       " '2017-03-03': 135.0,\n",
       " '2017-03-06': 60.0,\n",
       " '2017-03-07': 150.0,\n",
       " '2017-03-08': 195.0,\n",
       " '2017-03-09': 195.0,\n",
       " '2017-03-10': 60.0,\n",
       " '2017-03-13': 120.0,\n",
       " '2017-03-15': 315.0,\n",
       " '2017-03-16': 75.0,\n",
       " '2017-03-17': 90.0,\n",
       " '2017-03-21': 135.0,\n",
       " '2017-03-22': 195.0,\n",
       " '2017-03-23': 195.0,\n",
       " '2017-03-24': 60.0,\n",
       " '2017-03-25': 60.0,\n",
       " '2017-03-29': 195.0,\n",
       " '2017-04-12': 60.0,\n",
       " '2017-04-20': 195.0,\n",
       " '2017-05-10': 60.0,\n",
       " '2017-06-15': 845.0,\n",
       " '2017-07-13': 544.0}"
      ]
     },
     "execution_count": 17,
     "metadata": {},
     "output_type": "execute_result"
    }
   ],
   "source": [
    "dict_calendar"
   ]
  },
  {
   "cell_type": "code",
   "execution_count": 18,
   "metadata": {
    "collapsed": false
   },
   "outputs": [],
   "source": [
    "#Steps\n",
    "import csv\n",
    "step = {}\n",
    "with open('steps.csv', 'r') as stepsFile:\n",
    "    stepsF = csv.reader(stepsFile)\n",
    "    \n",
    "    for i,line in enumerate(stepsF):\n",
    "        if i > 1:\n",
    "            start = line[4]\n",
    "            startDate = (start.split(\"-\")[0]) + \"-\" + (start.split(\"-\")[1]) + \"-\" + (start.split(\"-\")[2].split(\" \")[0])\n",
    "            count = int(line[5])\n",
    "            if(step.has_key(startDate)):\n",
    "                step[startDate] += count\n",
    "            else:\n",
    "                step[startDate] = count"
   ]
  },
  {
   "cell_type": "code",
   "execution_count": 19,
   "metadata": {
    "collapsed": false
   },
   "outputs": [
    {
     "name": "stdout",
     "output_type": "stream",
     "text": [
      "2016-07-18 02:20:00\n",
      "2016-07-21 02:20:00\n",
      "2017-03-07 07:10:00\n",
      "2017-03-11 08:50:00\n",
      "2017-03-25 10:40:00\n",
      "2017-03-24 07:30:00\n",
      "2017-03-23 10:00:00\n",
      "2017-03-22 08:00:00\n",
      "2017-03-21 09:30:00\n",
      "2017-03-20 09:50:00\n",
      "2017-03-18 10:20:00\n",
      "2017-03-17 08:00:00\n",
      "2017-03-16 09:00:00\n",
      "2017-03-15 08:10:00\n",
      "2017-03-13 10:40:00\n",
      "2017-03-12 10:30:00\n",
      "2017-03-10 08:10:00\n",
      "2017-03-08 08:10:00\n",
      "2017-03-06 08:10:00\n",
      "2017-03-03 08:20:00\n",
      "2017-03-01 07:40:00\n",
      "2017-02-28 07:30:00\n",
      "2017-02-27 07:20:00\n",
      "2017-02-26 10:40:00\n",
      "2017-02-25 10:30:00\n",
      "2017-02-24 07:00:00\n"
     ]
    }
   ],
   "source": [
    "#Sleep\n",
    "from datetime import datetime\n",
    "\n",
    "start_date = []\n",
    "end_date = []\n",
    "sleep_time = []\n",
    "days = []\n",
    "\n",
    "with open('sleep.csv', 'r') as person:\n",
    "    for row in person:        \n",
    "        rowed = row.split(',')        \n",
    "        \n",
    "        if (len(rowed) > 3):\n",
    "            if rowed[3] == 'start_time' or rowed[1] == 'end_time':\n",
    "                continue\n",
    "            \n",
    "            start_date = datetime.strptime(rowed[3][:-4],\"%Y-%m-%d %H:%M:%S\")\n",
    "            end_date = datetime.strptime(rowed[1][:-4],\"%Y-%m-%d %H:%M:%S\")\n",
    "            print(end_date)\n",
    "            days.append(end_date)\n",
    "            diff = end_date - start_date\n",
    "            sleep_time.append(diff.seconds/60/60) # get this is hours\n",
    "\n",
    "dict_sleep = {}\n",
    "for i in range(len(days)):\n",
    "    if(len(str(days[i].date().day)) == 1):\n",
    "        temp = str(days[i].date().year) + \"-0\" + str(days[i].date().month) + \"-0\" + str(days[i].date().day)\n",
    "    else:\n",
    "        temp = str(days[i].date().year) + \"-0\" + str(days[i].date().month) + \"-\" + str(days[i].date().day)\n",
    "    dict_sleep[temp] = sleep_time[i]"
   ]
  },
  {
   "cell_type": "code",
   "execution_count": 32,
   "metadata": {
    "collapsed": false
   },
   "outputs": [],
   "source": [
    "date = []\n",
    "steps = []\n",
    "sleep = []\n",
    "cal = []\n",
    "for key in step:\n",
    "    if(dict_calendar.has_key(key) and dict_sleep.has_key(key)):\n",
    "        date.append(key)\n",
    "\n",
    "date.sort()\n",
    "for elm in date:\n",
    "    steps.append(step[elm])\n",
    "    cal.append(dict_calendar[elm]/60)\n",
    "    sleep.append(dict_sleep[elm])"
   ]
  },
  {
   "cell_type": "code",
   "execution_count": 34,
   "metadata": {
    "collapsed": false,
    "scrolled": false
   },
   "outputs": [
    {
     "data": {
      "image/png": "[encoded data removed]",
      "text/plain": [
       "<matplotlib.figure.Figure at 0x113313650>"
      ]
     },
     "metadata": {},
     "output_type": "display_data"
    }
   ],
   "source": [
    "# the histogram of calendar\n",
    "y_pos = np.arange(len(cal))\n",
    "fig = plt.figure(figsize=(10,5))\n",
    "plt.bar(y_pos, cal, align='center', alpha=0.5, width=0.8)\n",
    "plt.xticks(y_pos, y_pos)\n",
    "plt.title('Daily Activity from Calendar')\n",
    "plt.ylabel('Hours')\n",
    "plt.xlabel('Day')\n",
    "plt.show()"
   ]
  },
  {
   "cell_type": "code",
   "execution_count": 35,
   "metadata": {
    "collapsed": false
   },
   "outputs": [
    {
     "data": {
      "image/png": "[encoded data removed]",
      "text/plain": [
       "<matplotlib.figure.Figure at 0x1132f2a10>"
      ]
     },
     "metadata": {},
     "output_type": "display_data"
    }
   ],
   "source": [
    "# the histogram of steps\n",
    "y_pos = np.arange(len(steps))\n",
    "fig = plt.figure(figsize=(10,5))\n",
    "plt.bar(y_pos, steps, align='center', alpha=0.5, width=0.8)\n",
    "plt.xticks(y_pos, y_pos)\n",
    "plt.title('Daily Step Count from S Health')\n",
    "plt.ylabel('Num of Steps')\n",
    "plt.xlabel('Day')\n",
    "plt.show()"
   ]
  },
  {
   "cell_type": "code",
   "execution_count": 36,
   "metadata": {
    "collapsed": false
   },
   "outputs": [
    {
     "data": {
      "image/png": "[encoded data removed]",
      "text/plain": [
       "<matplotlib.figure.Figure at 0x114627890>"
      ]
     },
     "metadata": {},
     "output_type": "display_data"
    }
   ],
   "source": [
    "#The histogram of sleep\n",
    "y_pos = np.arange(len(sleep))\n",
    "fig = plt.figure(figsize=(10,5))\n",
    "plt.bar(y_pos, sleep, align='center', alpha=0.5, width=0.8)\n",
    "plt.xticks(y_pos, y_pos)\n",
    "plt.title('Daily Sleeping activity from S Health')\n",
    "plt.ylabel('Hours')\n",
    "plt.xlabel('Day')\n",
    "plt.show()"
   ]
  }
 ],
 "metadata": {
  "anaconda-cloud": {},
  "kernelspec": {
   "display_name": "Python [default]",
   "language": "python",
   "name": "python2"
  },
  "language_info": {
   "codemirror_mode": {
    "name": "ipython",
    "version": 2
   },
   "file_extension": ".py",
   "mimetype": "text/x-python",
   "name": "python",
   "nbconvert_exporter": "python",
   "pygments_lexer": "ipython2",
   "version": "2.7.12"
  }
 },
 "nbformat": 4,
 "nbformat_minor": 1
}
