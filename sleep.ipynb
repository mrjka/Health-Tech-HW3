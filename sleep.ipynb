{
 "cells": [
  {
   "cell_type": "code",
   "execution_count": 30,
   "metadata": {
    "collapsed": false
   },
   "outputs": [],
   "source": [
    "# how many hours of sleep per night\n",
    "  \n",
    "import numpy as np\n",
    "import pandas as pd\n",
    "\n",
    "import matplotlib.pyplot as plt\n",
    "%matplotlib inline\n",
    "\n",
    "from datetime import datetime"
   ]
  },
  {
   "cell_type": "code",
   "execution_count": 93,
   "metadata": {
    "collapsed": false
   },
   "outputs": [
    {
     "name": "stdout",
     "output_type": "stream",
     "text": [
      "2016-07-18 02:20:00\n",
      "2016-07-21 02:20:00\n",
      "2017-03-07 07:10:00\n",
      "2017-03-11 08:50:00\n",
      "2017-03-25 10:40:00\n",
      "2017-03-24 07:30:00\n",
      "2017-03-23 10:00:00\n",
      "2017-03-22 08:00:00\n",
      "2017-03-21 09:30:00\n",
      "2017-03-20 09:50:00\n",
      "2017-03-18 10:20:00\n",
      "2017-03-17 08:00:00\n",
      "2017-03-16 09:00:00\n",
      "2017-03-15 08:10:00\n",
      "2017-03-13 10:40:00\n",
      "2017-03-12 10:30:00\n",
      "2017-03-10 08:10:00\n",
      "2017-03-08 08:10:00\n",
      "2017-03-06 08:10:00\n",
      "2017-03-03 08:20:00\n",
      "2017-03-01 07:40:00\n",
      "2017-02-28 07:30:00\n",
      "2017-02-27 07:20:00\n",
      "2017-02-26 10:40:00\n",
      "2017-02-25 10:30:00\n",
      "2017-02-24 07:00:00\n"
     ]
    }
   ],
   "source": [
    "start_date = []\n",
    "end_date = []\n",
    "sleep_time = []\n",
    "days = []\n",
    "\n",
    "with open('sleep.csv', 'r') as person:\n",
    "    for row in person:        \n",
    "        rowed = row.split(',')        \n",
    "        \n",
    "        if (len(rowed) > 3):\n",
    "            if rowed[3] == 'start_time' or rowed[1] == 'end_time':\n",
    "                continue\n",
    "            \n",
    "            start_date = datetime.strptime(rowed[3][:-4],\"%Y-%m-%d %H:%M:%S\")\n",
    "            end_date = datetime.strptime(rowed[1][:-4],\"%Y-%m-%d %H:%M:%S\")\n",
    "            print(end_date)\n",
    "            days.append(end_date)\n",
    "            diff = end_date - start_date\n",
    "            sleep_time.append(diff.seconds/60/60) # get this is hours\n",
    "            \n",
    "# print(sleep_time)\n",
    "# print(days)"
   ]
  },
  {
   "cell_type": "code",
   "execution_count": 100,
   "metadata": {
    "collapsed": false
   },
   "outputs": [
    {
     "data": {
      "image/png": "[encoded data removed]",
      "text/plain": [
       "<matplotlib.figure.Figure at 0x1168d42b0>"
      ]
     },
     "metadata": {},
     "output_type": "display_data"
    }
   ],
   "source": [
    "x_pos = np.arange(26)\n",
    "\n",
    "plt.plot(sleep_time, 'r--')\n",
    "plt.ylabel('hours of sleep')\n",
    "plt.xlabel('day')\n",
    "plt.title('Hours of sleep as recorded by Samsung sHealth')\n",
    "plt.xticks(x_pos)\n",
    "plt.show()"
   ]
  },
  {
   "cell_type": "code",
   "execution_count": 102,
   "metadata": {
    "collapsed": false
   },
   "outputs": [
    {
     "name": "stdout",
     "output_type": "stream",
     "text": [
      "[datetime.datetime(2016, 7, 18, 2, 20), datetime.datetime(2016, 7, 21, 2, 20), datetime.datetime(2017, 3, 7, 7, 10), datetime.datetime(2017, 3, 11, 8, 50), datetime.datetime(2017, 3, 25, 10, 40), datetime.datetime(2017, 3, 24, 7, 30), datetime.datetime(2017, 3, 23, 10, 0), datetime.datetime(2017, 3, 22, 8, 0), datetime.datetime(2017, 3, 21, 9, 30), datetime.datetime(2017, 3, 20, 9, 50), datetime.datetime(2017, 3, 18, 10, 20), datetime.datetime(2017, 3, 17, 8, 0), datetime.datetime(2017, 3, 16, 9, 0), datetime.datetime(2017, 3, 15, 8, 10), datetime.datetime(2017, 3, 13, 10, 40), datetime.datetime(2017, 3, 12, 10, 30), datetime.datetime(2017, 3, 10, 8, 10), datetime.datetime(2017, 3, 8, 8, 10), datetime.datetime(2017, 3, 6, 8, 10), datetime.datetime(2017, 3, 3, 8, 20), datetime.datetime(2017, 3, 1, 7, 40), datetime.datetime(2017, 2, 28, 7, 30), datetime.datetime(2017, 2, 27, 7, 20), datetime.datetime(2017, 2, 26, 10, 40), datetime.datetime(2017, 2, 25, 10, 30), datetime.datetime(2017, 2, 24, 7, 0)]\n"
     ]
    }
   ],
   "source": [
    "print(days)"
   ]
  },
  {
   "cell_type": "code",
   "execution_count": 130,
   "metadata": {
    "collapsed": false
   },
   "outputs": [],
   "source": [
    "dict_cal = {}\n",
    "for i in range(len(days)):\n",
    "    if(len(str(days[i].date().day)) == 1):\n",
    "        temp = str(days[i].date().year) + \"-0\" + str(days[i].date().month) + \"-0\" + str(days[i].date().day)\n",
    "    else:\n",
    "        temp = str(days[i].date().year) + \"-0\" + str(days[i].date().month) + \"-\" + str(days[i].date().day)\n",
    "    dict_cal[temp] = sleep_time[i]"
   ]
  },
  {
   "cell_type": "code",
   "execution_count": 131,
   "metadata": {
    "collapsed": false
   },
   "outputs": [
    {
     "data": {
      "text/plain": [
       "{'2016-07-18': 8.166666666666666,\n",
       " '2016-07-21': 8.0,\n",
       " '2017-02-24': 7.666666666666667,\n",
       " '2017-02-25': 8.333333333333334,\n",
       " '2017-02-26': 7.0,\n",
       " '2017-02-27': 7.166666666666667,\n",
       " '2017-02-28': 8.5,\n",
       " '2017-03-01': 9.0,\n",
       " '2017-03-03': 8.333333333333334,\n",
       " '2017-03-06': 7.5,\n",
       " '2017-03-07': 7.166666666666667,\n",
       " '2017-03-08': 6.166666666666667,\n",
       " '2017-03-10': 9.666666666666666,\n",
       " '2017-03-11': 4.666666666666667,\n",
       " '2017-03-12': 7.5,\n",
       " '2017-03-13': 8.333333333333334,\n",
       " '2017-03-15': 7.333333333333333,\n",
       " '2017-03-16': 7.0,\n",
       " '2017-03-17': 7.333333333333333,\n",
       " '2017-03-18': 8.0,\n",
       " '2017-03-20': 8.0,\n",
       " '2017-03-21': 6.666666666666667,\n",
       " '2017-03-22': 6.833333333333333,\n",
       " '2017-03-23': 9.833333333333334,\n",
       " '2017-03-24': 7.166666666666667,\n",
       " '2017-03-25': 11.333333333333334}"
      ]
     },
     "execution_count": 131,
     "metadata": {},
     "output_type": "execute_result"
    }
   ],
   "source": [
    "dict_cal"
   ]
  },
  {
   "cell_type": "code",
   "execution_count": null,
   "metadata": {
    "collapsed": true
   },
   "outputs": [],
   "source": []
  }
 ],
 "metadata": {
  "anaconda-cloud": {},
  "kernelspec": {
   "display_name": "Python [conda root]",
   "language": "python",
   "name": "conda-root-py"
  },
  "language_info": {
   "codemirror_mode": {
    "name": "ipython",
    "version": 2
   },
   "file_extension": ".py",
   "mimetype": "text/x-python",
   "name": "python",
   "nbconvert_exporter": "python",
   "pygments_lexer": "ipython2",
   "version": "2.7.12"
  }
 },
 "nbformat": 4,
 "nbformat_minor": 1
}
